{
 "cells": [
  {
   "cell_type": "markdown",
   "metadata": {},
   "source": [
    "Question 1 :\n",
    "Write a Python program to find the first 20 non-even prime natural numbers."
   ]
  },
  {
   "cell_type": "code",
   "execution_count": 24,
   "metadata": {},
   "outputs": [
    {
     "name": "stdout",
     "output_type": "stream",
     "text": [
      "3\n",
      "5\n",
      "7\n",
      "9\n",
      "11\n",
      "13\n",
      "15\n",
      "17\n",
      "19\n",
      "21\n",
      "23\n",
      "25\n",
      "27\n",
      "29\n",
      "31\n",
      "33\n",
      "35\n",
      "37\n",
      "39\n",
      "41\n"
     ]
    }
   ],
   "source": [
    "c=1\n",
    "f=0\n",
    "for i in range(3,100,2):\n",
    "    if c<=20:\n",
    "        \n",
    "        for j in range(i+1,50):\n",
    "            \n",
    "            if i%j==0:\n",
    "                f=1\n",
    "                \n",
    "            break\n",
    "                \n",
    "        if f==0:\n",
    "            c=c+1\n",
    "            print(i)\n",
    " \n",
    "        \n",
    "        "
   ]
  },
  {
   "cell_type": "markdown",
   "metadata": {},
   "source": [
    "Question 2 :\n",
    "Write a Python program to implement 15 functions of string."
   ]
  },
  {
   "cell_type": "code",
   "execution_count": 58,
   "metadata": {},
   "outputs": [
    {
     "name": "stdout",
     "output_type": "stream",
     "text": [
      "LetsUpgradeAI ML Program\n",
      "lETSuPGRADE\n",
      "letsupgrade\n",
      "LETSUPGRADE\n",
      "True\n",
      "LeesUpgrade\n",
      "11\n",
      "4\n",
      "6\n",
      "machine\n",
      "False\n",
      "False\n",
      "Letsupgrade\n",
      "False\n"
     ]
    }
   ],
   "source": [
    "a = \"LetsUpgrade\"\n",
    "b = \"AI ML Program\"\n",
    "c=['m','a','c','h','i','n','e']\n",
    "d=[]\n",
    "\n",
    "\n",
    "print(a+b)\n",
    "print(a.swapcase())\n",
    "print(a.lower())\n",
    "print(a.upper())\n",
    "print(a.isalpha())\n",
    "print(a.replace('t','e'))\n",
    "print(len(a))\n",
    "print(a.find('U'))\n",
    "print(a.find('g',5,8))\n",
    "print(''.join(c))\n",
    "print(a.isspace())\n",
    "print(b.isdigit())\n",
    "print(a.capitalize())\n",
    "print(a.islower())"
   ]
  },
  {
   "cell_type": "markdown",
   "metadata": {},
   "source": [
    "Question 3:\n",
    "Write a Python program to check if the given string is a Palindrome or Anagram or None of them.\n",
    "Display the message accordingly to the user."
   ]
  },
  {
   "cell_type": "code",
   "execution_count": 5,
   "metadata": {},
   "outputs": [
    {
     "name": "stdout",
     "output_type": "stream",
     "text": [
      "enter string121\n",
      "palindrome\n"
     ]
    }
   ],
   "source": [
    "s1=input('enter string')\n",
    "b=[]\n",
    "for i in range(len(s1)-1,-1,-1):\n",
    "    b.append(s1[i])\n",
    "    \n",
    "b=\"\".join(b)\n",
    "if b==s1:\n",
    "    print(\"palindrome\")\n",
    "else:\n",
    "    print(\"not palindrome\")\n",
    "    \n",
    "\n"
   ]
  },
  {
   "cell_type": "markdown",
   "metadata": {},
   "source": [
    "Question 4:\n",
    "Write a Python's user defined function that removes all the additional characters from the string\n",
    "and converts it finally to lower case using built-in lower(). eg: If the string is \"Dr. Darshan Ingle\n",
    "@AI-ML Trainer\", then the output be \"drdarshaningleaimltrainer\"."
   ]
  },
  {
   "cell_type": "code",
   "execution_count": 24,
   "metadata": {},
   "outputs": [
    {
     "name": "stdout",
     "output_type": "stream",
     "text": [
      "enter stringDr. Darshan Ingle @AI-ML Trainer\n",
      "drdarshaningleaimltrainer\n"
     ]
    }
   ],
   "source": [
    "def con(x):\n",
    "    a=[]\n",
    "    for i in range(0,len(x)):\n",
    "        if (ord(x[i])>=65 and ord(x[i])<=90) or (ord(x[i])>=97 and ord(x[i])<=122):\n",
    "            a.append(x[i])\n",
    "    \n",
    "    a=''.join(a)\n",
    "    print(a.lower())\n",
    "\n",
    "    \n",
    "s1=input('enter string')\n",
    "con(s1)"
   ]
  }
 ],
 "metadata": {
  "kernelspec": {
   "display_name": "Python 3",
   "language": "python",
   "name": "python3"
  },
  "language_info": {
   "codemirror_mode": {
    "name": "ipython",
    "version": 3
   },
   "file_extension": ".py",
   "mimetype": "text/x-python",
   "name": "python",
   "nbconvert_exporter": "python",
   "pygments_lexer": "ipython3",
   "version": "3.7.6"
  }
 },
 "nbformat": 4,
 "nbformat_minor": 4
}
